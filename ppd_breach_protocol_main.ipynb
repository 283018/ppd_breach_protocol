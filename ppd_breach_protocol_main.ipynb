{
 "cells": [
  {
   "metadata": {},
   "cell_type": "markdown",
   "source": [
    "# Podstawy podejmowania decyzji projekt\n",
    "283018"
   ],
   "id": "ff390f13b8187694"
  },
  {
   "metadata": {},
   "cell_type": "markdown",
   "source": "## Opis",
   "id": "6b4d472dd683c177"
  },
  {
   "metadata": {},
   "cell_type": "markdown",
   "source": [
    "1. Plansza (macierz) nxn zapełniona symbolami.\n",
    "2. Każda komórka macierzy zawiera jeden symbol w formacie heksadecymalnym (nie ma to zasadniczego znaczenia i można je zamienić na liczby całkowite lub symbole ascii) z pewnej ograniczonej puli.\n",
    "3. Symbole w różnych komórkach macierzy mogą się powtarzać.\n",
    "4. Jest lista \"demonów\" - sekwencji różnej długości złożonych z symboli z tej samej puli (przy czym jedna sekwencja może zawierać inną sekwencję w części albo w pełni).\n",
    "5. Jest ograniczony \"buffor\" - maksymalna ilość symboli które można aktywować/wybrać na macierzy.\n",
    "6. Wybierać symbole z planszy można według określonych zasad:<br>\n",
    "\ta) w pierwszym kroku można wybrać dowolny symbol z pierwszego *wiersza*, na przykład (0, 4)<br>\n",
    "\tb) w drugim kroku symbol z tej samej *kolumny* co poprzednio wybrany symbol, np. (3, 4)<br>\n",
    "\tc) w trzecim znowu z tego samego *wiersza* co poprzednio wybrany, np. (5, 4)<br>\n",
    "\tNa ogół, jeśli krok jest nieparzysty to wybór się odbywa w odpowiednim (zgodnym z poprzednio wybranym) *wierszu*, jeśli parzysty to w *kolumnie*.\n",
    "7. Można wybierać symbol z tej samej komórki macierzy tylko jednokrotnie\n",
    "8. Jeśli zostały kolejno wybrane symbole odpowiadające \"demonowi\" to ta sekwencja jest \"aktywowana\".\n",
    "9. Można wybierać symbole niebędące elementem żadnego \"demona\".\n",
    "10. Macierz jest generowana w taki sposób by każdy pojedynczy \"demon\" był możliwy do aktywacji"
   ],
   "id": "18308582c2385998"
  },
  {
   "metadata": {},
   "cell_type": "markdown",
   "source": "# Instalacja",
   "id": "127990a569463100"
  },
  {
   "metadata": {},
   "cell_type": "code",
   "source": [
    "!pip install gurobipy\n",
    "!pip install icecream\n"
   ],
   "id": "c2427c15a96f03c0",
   "outputs": [],
   "execution_count": null
  },
  {
   "metadata": {
    "ExecuteTime": {
     "end_time": "2025-04-16T01:39:30.483150Z",
     "start_time": "2025-04-16T01:39:30.373158Z"
    }
   },
   "cell_type": "code",
   "source": [
    "import gurobipy as gp\n",
    "import numpy as np  # noqa: F401\n",
    "from icecream import ic  # noqa: F401\n",
    "# import matplotlib.pyplot as plt"
   ],
   "id": "810c7a38807c9793",
   "outputs": [],
   "execution_count": 1
  },
  {
   "metadata": {},
   "cell_type": "markdown",
   "source": "# ------",
   "id": "1e05511f0217964"
  },
  {
   "metadata": {
    "ExecuteTime": {
     "end_time": "2025-04-16T01:39:31.565328Z",
     "start_time": "2025-04-16T01:39:31.561379Z"
    }
   },
   "cell_type": "code",
   "source": [
    "# dane wejściowe\n",
    "buffer_size = 8\n",
    "demons = [\n",
    "    [1, 3, 4, 1],\n",
    "    [3, 1, 2],\n",
    "    [1, 3, 1, 2, 4],\n",
    "]\n",
    "d_costs = [3, 2, 5]\n",
    "\n",
    "# TODO: numpy array?\n",
    "matrix = [\n",
    "    [1, 3, 3],\n",
    "    [4, 2, 1],\n",
    "    [3, 1, 4]\n",
    "]"
   ],
   "id": "b74f6ab1f6fd2cd9",
   "outputs": [],
   "execution_count": 2
  },
  {
   "metadata": {
    "ExecuteTime": {
     "end_time": "2025-04-16T03:35:56.810195Z",
     "start_time": "2025-04-16T03:35:56.546642Z"
    }
   },
   "cell_type": "code",
   "source": [
    "# aktualna konfiguracja (stałe)\n",
    "d_amo = len(demons)\n",
    "d_lengths = [len(i) for i in demons]\n",
    "matrix_size = len(matrix)\n",
    "if not all(len(row) == matrix_size for row in matrix):\n",
    "    raise ValueError(\"Matrix must have same dimensions\")\n",
    "\n",
    "\n",
    "\n",
    "model = gp.Model(\"Breach Protocol\")\n",
    "model.setParam(\"OutputFlag\", 0)\n",
    "\n",
    "\n",
    "\n",
    "# wybór drogi\n",
    "x = model.addVars(matrix_size, matrix_size, buffer_size, vtype=gp.GRB.BINARY, name='x')\n",
    "\n",
    "# tylko jedna komórka wybierana w każdym kroku\n",
    "for t in range(buffer_size):\n",
    "    model.addConstr(x.sum('*', '*', t) == 1, name=f'one_cell_per_step_{t}')\n",
    "#TODO: brak wyboru dostępny? (jeśli tak to może być tylko na końcu)\n",
    "\n",
    "# maksymalna ilość kroków (prawdopodobnie zbędne)\n",
    "model.addConstr((x.sum('*', '*', '*') <= buffer_size), name=\"max_steps\")\n",
    "\n",
    "\n",
    "\n",
    "# bezpośrednio sekwencja buffera\n",
    "buffer_seq = [\n",
    "    gp.quicksum(\n",
    "        matrix[i][j] * x[i, j, t]\n",
    "        for i in range(matrix_size)\n",
    "        for j in range(matrix_size)\n",
    "        )\n",
    "    for t in range(buffer_size)\n",
    "]\n",
    "# ic(buffer_seq)\n",
    "\n",
    "\n",
    "# TODO: Vars \"z\" przechowujące pozycje startowe (lub wszystkich kandydatów?) demonów w buffer\n",
    "    #! demony mogą mieć kilka kandydatów na startową pozycję w sekwencji buffera\n",
    "    #? list/dict/tuple/gb.var ????\n",
    "# TODO: constr p + len(demon) <= buffer_size ∀ demon\n",
    "# TODO: constr buffer[p+i] == demon[i] ∀ i∈<0, len(demon) ∀ demon\n",
    "# TODO: y[i] = 1 jeśli chociaż jedna z p w z[i] == 1 (jeśli chociaż jedna s jest valid)\n",
    "    # https://support.gurobi.com/hc/en-us/articles/4414392016529-How-do-I-model-conditional-statements-in-Gurobi\n",
    "    # lub\n",
    "    # https://docs.gurobi.com/projects/optimizer/en/current/reference/python/model.html#Model.addGenConstrIndicator\n",
    "\n",
    "\n",
    "\n",
    "\n",
    "# wybrane demony\n",
    "y = model.addVars(d_amo, vtype=gp.GRB.BINARY, name='y')\n",
    "\n",
    "# długość wszystkich nie przekracza buffor\n",
    "# !TODO: jeden demon może się zawierać w drugim\n",
    "model.addConstr(gp.quicksum(d_lengths[i] * y[i] for i in range(d_amo)) <= buffer_size, name='buffer_len_constr')\n",
    "\n",
    "\n",
    "\n",
    "\n",
    "\n",
    "# maksymalizacja punktów (obv)\n",
    "model.setObjective(gp.quicksum(d_costs[i] * y[i] for i in range(d_amo)), gp.GRB.MAXIMIZE)\n",
    "model.optimize()\n",
    "\n",
    "\n",
    "print(\"\\n\"+\"#\"*50)\n",
    "opt = model.status == gp.GRB.OPTIMAL\n",
    "\n",
    "if opt:\n",
    "    sol = 0\n",
    "    print(\"Selected\")\n",
    "    for i in range(len(y)):\n",
    "        if y[i].x > 0.5:\n",
    "            print(f\"{i + 1}  (length: {d_lengths[i]}, cost: {d_costs[i]})\")\n",
    "            sol += d_costs[i]\n",
    "    print(f\"Buffer: {sol}/{buffer_size}\")\n",
    "else:\n",
    "    print(\"No solution found\")\n"
   ],
   "id": "5ccffda8fdc214d5",
   "outputs": [
    {
     "ename": "NameError",
     "evalue": "name 'demons' is not defined",
     "output_type": "error",
     "traceback": [
      "\u001B[31m---------------------------------------------------------------------------\u001B[39m",
      "\u001B[31mNameError\u001B[39m                                 Traceback (most recent call last)",
      "\u001B[36mCell\u001B[39m\u001B[36m \u001B[39m\u001B[32mIn[1]\u001B[39m\u001B[32m, line 2\u001B[39m\n\u001B[32m      1\u001B[39m \u001B[38;5;66;03m# aktualna konfiguracja (stałe)\u001B[39;00m\n\u001B[32m----> \u001B[39m\u001B[32m2\u001B[39m d_amo = \u001B[38;5;28mlen\u001B[39m(\u001B[43mdemons\u001B[49m)\n\u001B[32m      3\u001B[39m d_lengths = [\u001B[38;5;28mlen\u001B[39m(i) \u001B[38;5;28;01mfor\u001B[39;00m i \u001B[38;5;129;01min\u001B[39;00m demons]\n\u001B[32m      4\u001B[39m matrix_size = \u001B[38;5;28mlen\u001B[39m(matrix)\n",
      "\u001B[31mNameError\u001B[39m: name 'demons' is not defined"
     ]
    }
   ],
   "execution_count": 1
  },
  {
   "metadata": {},
   "cell_type": "code",
   "outputs": [],
   "execution_count": null,
   "source": "",
   "id": "8734776c9bf7bc88"
  }
 ],
 "metadata": {
  "kernelspec": {
   "display_name": "Python 3",
   "language": "python",
   "name": "python3"
  },
  "language_info": {
   "codemirror_mode": {
    "name": "ipython",
    "version": 2
   },
   "file_extension": ".py",
   "mimetype": "text/x-python",
   "name": "python",
   "nbconvert_exporter": "python",
   "pygments_lexer": "ipython2",
   "version": "2.7.6"
  }
 },
 "nbformat": 4,
 "nbformat_minor": 5
}
