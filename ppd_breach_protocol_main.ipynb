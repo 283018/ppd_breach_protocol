{
 "cells": [
  {
   "metadata": {},
   "cell_type": "markdown",
   "source": [
    "# Podstawy podejmowania decyzji projekt\n",
    "283018"
   ],
   "id": "ff390f13b8187694"
  },
  {
   "metadata": {},
   "cell_type": "markdown",
   "source": "## Opis",
   "id": "6b4d472dd683c177"
  },
  {
   "metadata": {},
   "cell_type": "markdown",
   "source": [
    "1. Plansza (macierz) nxn zapełniona symbolami.\n",
    "2. Każda komórka macierzy zawiera jeden symbol w formacie heksadecymalnym (nie ma to zasadniczego znaczenia i można je zamienić na liczby całkowite lub symbole ascii) z pewnej ograniczonej puli.\n",
    "3. Symbole w różnych komórkach macierzy mogą się powtarzać.\n",
    "4. Jest lista \"demonów\" - sekwencji różnej długości złożonych z symboli z tej samej puli (przy czym jedna sekwencja może zawierać inną sekwencję w części albo w pełni).\n",
    "5. Jest ograniczony \"buffor\" - maksymalna ilość symboli które można aktywować/wybrać na macierzy.\n",
    "6. Wybierać symbole z planszy można według określonych zasad:<br>\n",
    "\ta) w pierwszym kroku można wybrać dowolny symbol z pierwszego *wiersza*, na przykład (0, 4)<br>\n",
    "\tb) w drugim kroku symbol z tej samej *kolumny* co poprzednio wybrany symbol, np. (3, 4)<br>\n",
    "\tc) w trzecim znowu z tego samego *wiersza* co poprzednio wybrany, np. (5, 4)<br>\n",
    "\tNa ogół, jeśli krok jest nieparzysty to wybór się odbywa w odpowiednim (zgodnym z poprzednio wybranym) *wierszu*, jeśli parzysty to w *kolumnie*.\n",
    "7. Można wybierać symbol z tej samej komórki macierzy tylko jednokrotnie\n",
    "8. Jeśli zostały kolejno wybrane symbole odpowiadające \"demonowi\" to ta sekwencja jest \"aktywowana\".\n",
    "9. Można wybierać symbole niebędące elementem żadnego \"demona\".\n",
    "10. Macierz jest generowana w taki sposób by każdy pojedynczy \"demon\" był możliwy do aktywacji"
   ],
   "id": "18308582c2385998"
  },
  {
   "metadata": {},
   "cell_type": "markdown",
   "source": "# Instalacja",
   "id": "127990a569463100"
  },
  {
   "metadata": {},
   "cell_type": "code",
   "source": [
    "!pip install gurobipy\n",
    "!pip install icecream\n"
   ],
   "id": "c2427c15a96f03c0",
   "outputs": [],
   "execution_count": null
  },
  {
   "metadata": {
    "ExecuteTime": {
     "end_time": "2025-04-16T00:15:12.267236Z",
     "start_time": "2025-04-16T00:15:12.164163Z"
    }
   },
   "cell_type": "code",
   "source": [
    "import gurobipy as gp\n",
    "import numpy as np  # noqa: F401\n",
    "from icecream import ic  # noqa: F401\n",
    "# import matplotlib.pyplot as plt"
   ],
   "id": "810c7a38807c9793",
   "outputs": [],
   "execution_count": 1
  },
  {
   "metadata": {},
   "cell_type": "markdown",
   "source": "# ------",
   "id": "1e05511f0217964"
  },
  {
   "metadata": {
    "ExecuteTime": {
     "end_time": "2025-04-16T00:16:39.579110Z",
     "start_time": "2025-04-16T00:16:39.569108Z"
    }
   },
   "cell_type": "code",
   "source": [
    "# dane wejściowe\n",
    "buffer_size = 8\n",
    "demons = [\n",
    "    [1, 3, 4, 1],\n",
    "    [3, 1, 2],\n",
    "    [1, 3, 1, 2, 4],\n",
    "]\n",
    "d_costs = [3, 2, 5]\n",
    "matrix = [\n",
    "    [1, 3, 3],\n",
    "    [4, 2, 1],\n",
    "    [3, 1, 4]\n",
    "]\n",
    "\n",
    "\n",
    "# aktualna konfiguracja (stałe)\n",
    "d_amo = len(demons)\n",
    "d_lengths = [len(i) for i in demons]\n",
    "matrix_size = len(matrix)\n",
    "if not all(len(row) == matrix_size for row in matrix):\n",
    "    raise ValueError(\"Matrix must have same dimensions\")\n",
    "\n",
    "\n",
    "\n",
    "model = gp.Model(\"Breach Protocol\")\n",
    "model.setParam(\"OutputFlag\", 0)\n",
    "\n",
    "\n",
    "\n",
    "# wybór drogi\n",
    "x = model.addVars(matrix_size, matrix_size, buffer_size, vtype=gp.GRB.BINARY, name='x')\n",
    "\n",
    "# tylko jedna komórka wybierana w każdym kroku\n",
    "for t in range(buffer_size):\n",
    "    model.addConstr(x.sum('*', '*', t) == 1, name=f'one_cell_per_step_{t}')\n",
    "#TODO: brak wyboru dostępny? (jeśli tak to może być tylko na końcu)\n",
    "\n",
    "# maksymalna ilość kroków (prawdopodobnie zbędne)\n",
    "model.addConstr((x.sum('*', '*', '*') <= buffer_size), name=\"max_steps\")\n",
    "\n",
    "\n",
    "\n",
    "# wybrane demony\n",
    "y = model.addVars(d_amo, vtype=gp.GRB.BINARY, name='y')\n",
    "\n",
    "# !TODO: jeden demon może się zawierać w drugim\n",
    "# długość wszystkich nie przekracza buffor\n",
    "model.addConstr(gp.quicksum(d_lengths[i] * y[i] for i in range(d_amo)) <= buffer_size, name='buffer_len_constr')\n",
    "\n",
    "\n",
    "\n",
    "\n",
    "\n",
    "# maksymalizacja punktów (obv)\n",
    "model.setObjective(gp.quicksum(d_costs[i] * y[i] for i in range(d_amo)), gp.GRB.MAXIMIZE)\n",
    "model.optimize()\n",
    "\n",
    "\n",
    "\n",
    "print(\"\\n\"+\"#\"*50)\n",
    "if model.status == gp.GRB.OPTIMAL:\n",
    "    sol = 0\n",
    "    print(\"Selected\")\n",
    "    for i in range(len(y)):\n",
    "        if y[i].x > 0.5:\n",
    "            print(f\"{i + 1}  (length: {d_lengths[i]}, cost: {d_costs[i]})\")\n",
    "            sol += d_costs[i]\n",
    "    print(f\"Buffer: {sol}/{buffer_size}\")\n",
    "else:\n",
    "    print(\"No solution found\")\n"
   ],
   "id": "5ccffda8fdc214d5",
   "outputs": [
    {
     "name": "stdout",
     "output_type": "stream",
     "text": [
      "\n",
      "##################################################\n",
      "Selected\n",
      "2  (length: 3, cost: 2)\n",
      "3  (length: 5, cost: 5)\n",
      "Buffer: 7/8\n"
     ]
    }
   ],
   "execution_count": 6
  }
 ],
 "metadata": {
  "kernelspec": {
   "display_name": "Python 3",
   "language": "python",
   "name": "python3"
  },
  "language_info": {
   "codemirror_mode": {
    "name": "ipython",
    "version": 2
   },
   "file_extension": ".py",
   "mimetype": "text/x-python",
   "name": "python",
   "nbconvert_exporter": "python",
   "pygments_lexer": "ipython2",
   "version": "2.7.6"
  }
 },
 "nbformat": 4,
 "nbformat_minor": 5
}
